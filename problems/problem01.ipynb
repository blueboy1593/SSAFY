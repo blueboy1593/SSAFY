{
 "cells": [
  {
   "cell_type": "markdown",
   "metadata": {},
   "source": [
    "# 상승장? 하락장?\n",
    "\n",
    "> 최고가와 최저가의 차이를 변동폭으로 정의할 때 (시가 + 변동폭)이 최고가 보다 높을 경우 \"상승장\", 그렇지 않은 경우 \"하락장\" 문자열을 출력하라.\n",
    "\n",
    "|Key Name|Description|\n",
    "|------|---|\n",
    "|opeing_price|최근 24시간 내 시작 거래금액|\n",
    "|closing_price|최근 24시간 내 마지막 거래금액|\n",
    "|min_price|최근 24시간 내 최저 거래금액|\n",
    "|max_price|최근 24시간 내 최고 거래금액|"
   ]
  },
  {
   "cell_type": "code",
   "execution_count": null,
   "metadata": {},
   "outputs": [],
   "source": [
    "import requests\n",
    "\n",
    "url = \"https://api.bithumb.com/public/ticker/btc\"\n",
    "data = requests.get(url).json()['data']\n",
    "print(data)\n",
    "\n",
    "fluctuation = int(data['max_price']) - int(data['min_price'])\n",
    "\n",
    "if (int(data['opening_price']) + fluctuation) > int(data['max_price']):\n",
    "    print('상승장')\n",
    "else:\n",
    "    print('하락장')"
   ]
  },
  {
   "cell_type": "markdown",
   "metadata": {},
   "source": [
    "# 개인정보보호\n",
    "> 사용자의 핸드폰번호를 입력 받으려고한다. 개인정보 보호를 위하여 뒷자리 4자리를 제외하고는 마스킹 처리를 하려고한다.\n",
    ">\n",
    "> 핸드폰번호는 010으로 시작해야하고 11자리여야한다. 핸드폰번호를 입력하지 않았다면 \"핸드폰번호를 입력하세요\"를 출력한다\n",
    "\n",
    "```\n",
    "예시 입력)\n",
    "01012341234\n",
    "예시 출력)\n",
    "*******1234\n",
    "```"
   ]
  },
  {
   "cell_type": "code",
   "execution_count": 3,
   "metadata": {},
   "outputs": [
    {
     "name": "stdout",
     "output_type": "stream",
     "text": [
      "01065961533\n",
      "1533\n"
     ]
    }
   ],
   "source": [
    "# 여기에 코드를 작성하세요\n",
    "phone = input()\n",
    "\n",
    "try:\n",
    "    [int(num) for num in phone]\n",
    "except:\n",
    "    print('핸드폰 번호를 입력하세요')\n",
    "else:\n",
    "    \n",
    "    if phone[0:3] != '010':\n",
    "        print('핸드폰 번호를 입력하세요. 번호 오류')\n",
    "    elif len(phone) != 11:\n",
    "        print('핸드폰 번호를 입력하세요. 길이 오류')\n",
    "    else:\n",
    "        back = phone[7:11]\n",
    "        print(back)\n",
    "    "
   ]
  },
  {
   "cell_type": "markdown",
   "metadata": {},
   "source": [
    "# 정중앙\n",
    "> 사용자가 입력한 문자열중 가운데 글자를 출력하라. 문자열이 짝수라면 가운데 두글자를 출력하라"
   ]
  },
  {
   "cell_type": "code",
   "execution_count": null,
   "metadata": {},
   "outputs": [],
   "source": [
    "# 여기에 코드를 작성하세요\n",
    "text = input()\n",
    "l = len(text)//2\n",
    "if len(text) % 2 == 1: # 홀수라면\n",
    "    print(text[l])\n",
    "else:\n",
    "    print(text[l - 1:l + 1])"
   ]
  },
  {
   "cell_type": "code",
   "execution_count": null,
   "metadata": {},
   "outputs": [],
   "source": []
  }
 ],
 "metadata": {
  "kernelspec": {
   "display_name": "Python 3",
   "language": "python",
   "name": "python3"
  },
  "language_info": {
   "codemirror_mode": {
    "name": "ipython",
    "version": 3
   },
   "file_extension": ".py",
   "mimetype": "text/x-python",
   "name": "python",
   "nbconvert_exporter": "python",
   "pygments_lexer": "ipython3",
   "version": "3.7.4"
  },
  "toc": {
   "base_numbering": 1,
   "nav_menu": {},
   "number_sections": true,
   "sideBar": true,
   "skip_h1_title": false,
   "title_cell": "Table of Contents",
   "title_sidebar": "Contents",
   "toc_cell": false,
   "toc_position": {},
   "toc_section_display": true,
   "toc_window_display": false
  }
 },
 "nbformat": 4,
 "nbformat_minor": 2
}
